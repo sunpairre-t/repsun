{
 "cells": [
  {
   "cell_type": "markdown",
   "id": "f771828f",
   "metadata": {},
   "source": [
    "# Data Science and Ecosystem"
   ]
  },
  {
   "cell_type": "markdown",
   "id": "93d17a83",
   "metadata": {},
   "source": [
    " **Introduction** : In this notebook Data Science Tools and Ecosystem are summarized. "
   ]
  },
  {
   "cell_type": "markdown",
   "id": "24e20f87",
   "metadata": {},
   "source": [
    "**Objectives**: This will give you a little summary of data science languages, libraries, tools and how to do simple arthimetic expression"
   ]
  },
  {
   "cell_type": "markdown",
   "id": "eebaba56",
   "metadata": {},
   "source": [
    "Popular Langauage for Data Science\n",
    "<ul>\n",
    "<li>Pyton</li>\n",
    "<li>R</li>\n",
    "<li>Scala</li>\n",
    "<li>Java</li>\n",
    "<li>Julia</li>\n",
    "</ul>"
   ]
  },
  {
   "cell_type": "markdown",
   "id": "3c5e985d",
   "metadata": {},
   "source": [
    " Some of the popular language that Data Scientists use are: \n",
    "<ol>\n",
    "<li>Python</li>\n",
    "<li>R</li>\n",
    "<li>SQL</li>\n",
    "</ol>"
   ]
  },
  {
   "cell_type": "markdown",
   "id": "0edc7f10",
   "metadata": {},
   "source": [
    " Some of the commonly used Libraries used by Data Scientist include:\n",
    "<ol>\n",
    "<li>Numpy</li>\n",
    "<li>Pandas</li>\n",
    "<li>Pytorch</li>\n",
    "</ol>"
   ]
  },
  {
   "cell_type": "markdown",
   "id": "fd1b24cf",
   "metadata": {},
   "source": [
    "|     Data Science Tools                  |\n",
    "|-----------------------------------------|\n",
    "|Apache Spark |\n",
    "|Apache Hadoop|\n",
    "|TensorFlow   |"
   ]
  },
  {
   "cell_type": "markdown",
   "id": "b74fcb55",
   "metadata": {},
   "source": [
    "### Below are some examples of evaluating arithmetic expressions in Python"
   ]
  },
  {
   "cell_type": "markdown",
   "id": "5f8980ed",
   "metadata": {},
   "source": [
    "This is an equation that adds then multipyls it"
   ]
  },
  {
   "cell_type": "code",
   "execution_count": 4,
   "id": "37b97337",
   "metadata": {},
   "outputs": [
    {
     "data": {
      "text/plain": [
       "17"
      ]
     },
     "execution_count": 4,
     "metadata": {},
     "output_type": "execute_result"
    }
   ],
   "source": [
    "(3*4)+5"
   ]
  },
  {
   "cell_type": "markdown",
   "id": "386687a2",
   "metadata": {},
   "source": [
    "This will convert minutes to hours by dividing 200 minutes by 60 since 1 hour is 60 minutes."
   ]
  },
  {
   "cell_type": "code",
   "execution_count": 11,
   "id": "3ccdbe03",
   "metadata": {},
   "outputs": [
    {
     "name": "stdout",
     "output_type": "stream",
     "text": [
      "200 minutes = 3 hours and 20 minutes.\n"
     ]
    }
   ],
   "source": [
    "input_minutes=200\n",
    "hours = input_minutes // 60\n",
    "remaning_minutes=input_minutes % 60\n",
    "print(f\"{input_minutes} minutes = {hours} hours and {remaning_minutes} minutes.\")"
   ]
  },
  {
   "cell_type": "markdown",
   "id": "ddd6f870",
   "metadata": {},
   "source": [
    "## Author \n",
    "Sunpairre Tamene"
   ]
  }
 ],
 "metadata": {
  "kernelspec": {
   "display_name": "Python 3 (ipykernel)",
   "language": "python",
   "name": "python3"
  },
  "language_info": {
   "codemirror_mode": {
    "name": "ipython",
    "version": 3
   },
   "file_extension": ".py",
   "mimetype": "text/x-python",
   "name": "python",
   "nbconvert_exporter": "python",
   "pygments_lexer": "ipython3",
   "version": "3.8.10"
  }
 },
 "nbformat": 4,
 "nbformat_minor": 5
}
